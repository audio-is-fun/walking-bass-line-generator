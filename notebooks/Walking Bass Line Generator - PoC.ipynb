{
 "cells": [
  {
   "cell_type": "markdown",
   "id": "59be92cc",
   "metadata": {},
   "source": [
    "# PoC for walking bassline generator\n",
    "\n",
    "## 1. Parse chords progressions\n",
    "- Input: string with chord progression in American cipher\n",
    "- Output: Chords objects (detecting different intervals that will be used to create the bass lines)\n",
    "          Chords components (1st, 3rd, 5th, 7th)\n",
    "\n",
    "Will use [pychord](https://pypi.org/project/pychord/)."
   ]
  },
  {
   "cell_type": "code",
   "execution_count": 20,
   "id": "27b7b7b8",
   "metadata": {},
   "outputs": [],
   "source": [
    "from pychord import Chord, ChordProgression"
   ]
  },
  {
   "cell_type": "code",
   "execution_count": 21,
   "id": "319bafdd",
   "metadata": {},
   "outputs": [],
   "source": [
    "chord_str = 'Cm'\n",
    "\n",
    "chord = Chord(chord_str)"
   ]
  },
  {
   "cell_type": "code",
   "execution_count": 22,
   "id": "131db670",
   "metadata": {},
   "outputs": [
    {
     "data": {
      "text/plain": [
       "['C', 'Eb', 'G']"
      ]
     },
     "execution_count": 22,
     "metadata": {},
     "output_type": "execute_result"
    }
   ],
   "source": [
    "chord.components()"
   ]
  },
  {
   "cell_type": "code",
   "execution_count": 23,
   "id": "ef294b60",
   "metadata": {},
   "outputs": [
    {
     "name": "stdout",
     "output_type": "stream",
     "text": [
      "Cm\n",
      "root=C\n",
      "quality=m\n",
      "appended=[]\n",
      "on=\n"
     ]
    }
   ],
   "source": [
    "print(chord.info())"
   ]
  },
  {
   "cell_type": "code",
   "execution_count": 24,
   "id": "96628fa8",
   "metadata": {},
   "outputs": [],
   "source": [
    "chord_progression_str = 'C7 Am7 Fmaj7 G7'"
   ]
  },
  {
   "cell_type": "code",
   "execution_count": 25,
   "id": "b5411158",
   "metadata": {},
   "outputs": [],
   "source": [
    "chord_progression = ChordProgression(chord_progression_str.split())"
   ]
  },
  {
   "cell_type": "code",
   "execution_count": 26,
   "id": "8ae64695",
   "metadata": {},
   "outputs": [
    {
     "data": {
      "text/plain": [
       "[<Chord: C7>, <Chord: Am7>, <Chord: Fmaj7>, <Chord: G7>]"
      ]
     },
     "execution_count": 26,
     "metadata": {},
     "output_type": "execute_result"
    }
   ],
   "source": [
    "chord_progression.chords"
   ]
  },
  {
   "cell_type": "code",
   "execution_count": 27,
   "id": "60d0204e",
   "metadata": {},
   "outputs": [
    {
     "data": {
      "text/plain": [
       "['C', 'E', 'G', 'Bb']"
      ]
     },
     "metadata": {},
     "output_type": "display_data"
    },
    {
     "data": {
      "text/plain": [
       "['A', 'C', 'E', 'G']"
      ]
     },
     "metadata": {},
     "output_type": "display_data"
    },
    {
     "data": {
      "text/plain": [
       "['F', 'A', 'C', 'E']"
      ]
     },
     "metadata": {},
     "output_type": "display_data"
    },
    {
     "data": {
      "text/plain": [
       "['G', 'B', 'D', 'F']"
      ]
     },
     "metadata": {},
     "output_type": "display_data"
    }
   ],
   "source": [
    "for ch in chord_progression.chords:\n",
    "    display(ch.components())"
   ]
  },
  {
   "cell_type": "markdown",
   "id": "85da7e9c",
   "metadata": {},
   "source": [
    "## 2. Bassline figures\n",
    "- Input: None\n",
    "- Output: Different options for bassline figures (e.g. combination of eighth and sixteenth note)"
   ]
  },
  {
   "cell_type": "code",
   "execution_count": 1,
   "id": "01716541",
   "metadata": {},
   "outputs": [],
   "source": [
    "import pretty_midi"
   ]
  },
  {
   "cell_type": "code",
   "execution_count": 10,
   "id": "c53c2d44",
   "metadata": {},
   "outputs": [],
   "source": [
    "bass_line = pretty_midi.PrettyMIDI(initial_tempo=120.0)"
   ]
  },
  {
   "cell_type": "code",
   "execution_count": 11,
   "id": "9b67fb98",
   "metadata": {},
   "outputs": [],
   "source": [
    "# Create an Instrument instance for a bass instrument\n",
    "bass_program = pretty_midi.instrument_name_to_program('Acoustic Bass') # 'Electric Bass'\n",
    "bass = pretty_midi.Instrument(program=bass_program)"
   ]
  },
  {
   "cell_type": "code",
   "execution_count": 12,
   "id": "2b7b956d",
   "metadata": {},
   "outputs": [
    {
     "name": "stdout",
     "output_type": "stream",
     "text": [
      "Time Signature > 2/4 at 0.00 seconds\n"
     ]
    }
   ],
   "source": [
    "ts = pretty_midi.TimeSignature(2, 4, 0.0)\n",
    "print('Time Signature >', ts)"
   ]
  },
  {
   "cell_type": "code",
   "execution_count": 13,
   "id": "47399fec",
   "metadata": {},
   "outputs": [
    {
     "data": {
      "text/plain": [
       "array([], dtype=float64)"
      ]
     },
     "execution_count": 13,
     "metadata": {},
     "output_type": "execute_result"
    }
   ],
   "source": [
    "bass_line.get_downbeats(0.0)"
   ]
  },
  {
   "cell_type": "markdown",
   "id": "178d6189",
   "metadata": {},
   "source": [
    "👆 will not use `pretty_midi`\n",
    "\n",
    "---\n",
    "\n",
    "👇 will try `partitura` instead"
   ]
  },
  {
   "cell_type": "code",
   "execution_count": 63,
   "id": "741df434",
   "metadata": {},
   "outputs": [],
   "source": [
    "import partitura.score as score\n",
    "import partitura"
   ]
  },
  {
   "cell_type": "code",
   "execution_count": 64,
   "id": "8262bd92",
   "metadata": {},
   "outputs": [],
   "source": [
    "qd = 8\n",
    "bassline = score.Part('BL0', 'Bassline', quarter_duration=qd)\n",
    "bassline.add(score.TimeSignature(2, 4), start=0)"
   ]
  },
  {
   "cell_type": "code",
   "execution_count": 65,
   "id": "64f078c6",
   "metadata": {},
   "outputs": [
    {
     "name": "stdout",
     "output_type": "stream",
     "text": [
      "Part id=\"BL0\" name=\"Bassline\"\n",
      " │\n",
      " └─ TimePoint t=0 quarter=8\n",
      "     │\n",
      "     └─ starting objects\n",
      "         │\n",
      "         └─ 0-- TimeSignature 2/4\n"
     ]
    }
   ],
   "source": [
    "print(bassline.pretty())"
   ]
  },
  {
   "cell_type": "code",
   "execution_count": 66,
   "id": "5b6b4fcd",
   "metadata": {},
   "outputs": [],
   "source": [
    "n = 0\n",
    "for ch in chord_progression.chords:\n",
    "    for note in ch.components():\n",
    "        note_id = 'n{}'.format(n)\n",
    "        alter = None\n",
    "        if len(note) > 1:\n",
    "            if note[1] == 'b':\n",
    "                alter = -1\n",
    "            elif note[1] == '#':\n",
    "                alter = 1\n",
    "        bassline.add(score.Note(id=note_id, step=note[0], alter=alter, \n",
    "                                octave=3, voice=None), \n",
    "                     start=n*qd, end=(n+1)*qd)\n",
    "        n += 1\n",
    "\n",
    "score.add_measures(bassline)"
   ]
  },
  {
   "cell_type": "code",
   "execution_count": 67,
   "id": "6906aed3",
   "metadata": {},
   "outputs": [
    {
     "name": "stdout",
     "output_type": "stream",
     "text": [
      "Part id=\"BL0\" name=\"Bassline\"\n",
      " │\n",
      " ├─ TimePoint t=0 quarter=8\n",
      " │   │\n",
      " │   └─ starting objects\n",
      " │       │\n",
      " │       ├─ 0--16 Measure number=1\n",
      " │       ├─ 0--8 Note id=n0 voice=None staff=None type=quarter pitch=C3\n",
      " │       └─ 0-- TimeSignature 2/4\n",
      " │\n",
      " ├─ TimePoint t=8 quarter=8\n",
      " │   │\n",
      " │   ├─ ending objects\n",
      " │   │   │\n",
      " │   │   └─ 0--8 Note id=n0 voice=None staff=None type=quarter pitch=C3\n",
      " │   │\n",
      " │   └─ starting objects\n",
      " │       │\n",
      " │       └─ 8--16 Note id=n1 voice=None staff=None type=quarter pitch=E3\n",
      " │\n",
      " ├─ TimePoint t=16 quarter=8\n",
      " │   │\n",
      " │   ├─ ending objects\n",
      " │   │   │\n",
      " │   │   ├─ 0--16 Measure number=1\n",
      " │   │   └─ 8--16 Note id=n1 voice=None staff=None type=quarter pitch=E3\n",
      " │   │\n",
      " │   └─ starting objects\n",
      " │       │\n",
      " │       ├─ 16--32 Measure number=2\n",
      " │       └─ 16--24 Note id=n2 voice=None staff=None type=quarter pitch=G3\n",
      " │\n",
      " ├─ TimePoint t=24 quarter=8\n",
      " │   │\n",
      " │   ├─ ending objects\n",
      " │   │   │\n",
      " │   │   └─ 16--24 Note id=n2 voice=None staff=None type=quarter pitch=G3\n",
      " │   │\n",
      " │   └─ starting objects\n",
      " │       │\n",
      " │       └─ 24--32 Note id=n3 voice=None staff=None type=quarter pitch=Bb3\n",
      " │\n",
      " ├─ TimePoint t=32 quarter=8\n",
      " │   │\n",
      " │   ├─ ending objects\n",
      " │   │   │\n",
      " │   │   ├─ 16--32 Measure number=2\n",
      " │   │   └─ 24--32 Note id=n3 voice=None staff=None type=quarter pitch=Bb3\n",
      " │   │\n",
      " │   └─ starting objects\n",
      " │       │\n",
      " │       ├─ 32--48 Measure number=3\n",
      " │       └─ 32--40 Note id=n4 voice=None staff=None type=quarter pitch=A3\n",
      " │\n",
      " ├─ TimePoint t=40 quarter=8\n",
      " │   │\n",
      " │   ├─ ending objects\n",
      " │   │   │\n",
      " │   │   └─ 32--40 Note id=n4 voice=None staff=None type=quarter pitch=A3\n",
      " │   │\n",
      " │   └─ starting objects\n",
      " │       │\n",
      " │       └─ 40--48 Note id=n5 voice=None staff=None type=quarter pitch=C3\n",
      " │\n",
      " ├─ TimePoint t=48 quarter=8\n",
      " │   │\n",
      " │   ├─ ending objects\n",
      " │   │   │\n",
      " │   │   ├─ 32--48 Measure number=3\n",
      " │   │   └─ 40--48 Note id=n5 voice=None staff=None type=quarter pitch=C3\n",
      " │   │\n",
      " │   └─ starting objects\n",
      " │       │\n",
      " │       ├─ 48--64 Measure number=4\n",
      " │       └─ 48--56 Note id=n6 voice=None staff=None type=quarter pitch=E3\n",
      " │\n",
      " ├─ TimePoint t=56 quarter=8\n",
      " │   │\n",
      " │   ├─ ending objects\n",
      " │   │   │\n",
      " │   │   └─ 48--56 Note id=n6 voice=None staff=None type=quarter pitch=E3\n",
      " │   │\n",
      " │   └─ starting objects\n",
      " │       │\n",
      " │       └─ 56--64 Note id=n7 voice=None staff=None type=quarter pitch=G3\n",
      " │\n",
      " ├─ TimePoint t=64 quarter=8\n",
      " │   │\n",
      " │   ├─ ending objects\n",
      " │   │   │\n",
      " │   │   ├─ 48--64 Measure number=4\n",
      " │   │   └─ 56--64 Note id=n7 voice=None staff=None type=quarter pitch=G3\n",
      " │   │\n",
      " │   └─ starting objects\n",
      " │       │\n",
      " │       ├─ 64--80 Measure number=5\n",
      " │       └─ 64--72 Note id=n8 voice=None staff=None type=quarter pitch=F3\n",
      " │\n",
      " ├─ TimePoint t=72 quarter=8\n",
      " │   │\n",
      " │   ├─ ending objects\n",
      " │   │   │\n",
      " │   │   └─ 64--72 Note id=n8 voice=None staff=None type=quarter pitch=F3\n",
      " │   │\n",
      " │   └─ starting objects\n",
      " │       │\n",
      " │       └─ 72--80 Note id=n9 voice=None staff=None type=quarter pitch=A3\n",
      " │\n",
      " ├─ TimePoint t=80 quarter=8\n",
      " │   │\n",
      " │   ├─ ending objects\n",
      " │   │   │\n",
      " │   │   ├─ 64--80 Measure number=5\n",
      " │   │   └─ 72--80 Note id=n9 voice=None staff=None type=quarter pitch=A3\n",
      " │   │\n",
      " │   └─ starting objects\n",
      " │       │\n",
      " │       ├─ 80--96 Measure number=6\n",
      " │       └─ 80--88 Note id=n10 voice=None staff=None type=quarter pitch=C3\n",
      " │\n",
      " ├─ TimePoint t=88 quarter=8\n",
      " │   │\n",
      " │   ├─ ending objects\n",
      " │   │   │\n",
      " │   │   └─ 80--88 Note id=n10 voice=None staff=None type=quarter pitch=C3\n",
      " │   │\n",
      " │   └─ starting objects\n",
      " │       │\n",
      " │       └─ 88--96 Note id=n11 voice=None staff=None type=quarter pitch=E3\n",
      " │\n",
      " ├─ TimePoint t=96 quarter=8\n",
      " │   │\n",
      " │   ├─ ending objects\n",
      " │   │   │\n",
      " │   │   ├─ 80--96 Measure number=6\n",
      " │   │   └─ 88--96 Note id=n11 voice=None staff=None type=quarter pitch=E3\n",
      " │   │\n",
      " │   └─ starting objects\n",
      " │       │\n",
      " │       ├─ 96--112 Measure number=7\n",
      " │       └─ 96--104 Note id=n12 voice=None staff=None type=quarter pitch=G3\n",
      " │\n",
      " ├─ TimePoint t=104 quarter=8\n",
      " │   │\n",
      " │   ├─ ending objects\n",
      " │   │   │\n",
      " │   │   └─ 96--104 Note id=n12 voice=None staff=None type=quarter pitch=G3\n",
      " │   │\n",
      " │   └─ starting objects\n",
      " │       │\n",
      " │       └─ 104--112 Note id=n13 voice=None staff=None type=quarter pitch=B3\n",
      " │\n",
      " ├─ TimePoint t=112 quarter=8\n",
      " │   │\n",
      " │   ├─ ending objects\n",
      " │   │   │\n",
      " │   │   ├─ 96--112 Measure number=7\n",
      " │   │   └─ 104--112 Note id=n13 voice=None staff=None type=quarter pitch=B3\n",
      " │   │\n",
      " │   └─ starting objects\n",
      " │       │\n",
      " │       ├─ 112--128 Measure number=8\n",
      " │       └─ 112--120 Note id=n14 voice=None staff=None type=quarter pitch=D3\n",
      " │\n",
      " ├─ TimePoint t=120 quarter=8\n",
      " │   │\n",
      " │   ├─ ending objects\n",
      " │   │   │\n",
      " │   │   └─ 112--120 Note id=n14 voice=None staff=None type=quarter pitch=D3\n",
      " │   │\n",
      " │   └─ starting objects\n",
      " │       │\n",
      " │       └─ 120--128 Note id=n15 voice=None staff=None type=quarter pitch=F3\n",
      " │\n",
      " └─ TimePoint t=128 quarter=8\n",
      "     │\n",
      "     └─ ending objects\n",
      "         │\n",
      "         ├─ 112--128 Measure number=8\n",
      "         └─ 120--128 Note id=n15 voice=None staff=None type=quarter pitch=F3\n"
     ]
    }
   ],
   "source": [
    "print(bassline.pretty())"
   ]
  },
  {
   "cell_type": "code",
   "execution_count": 69,
   "id": "5f0a1a0c",
   "metadata": {},
   "outputs": [],
   "source": [
    "# partitura.render(bassline)\n",
    "partitura.save_musicxml(bassline, 'bassline.musicxml')"
   ]
  },
  {
   "cell_type": "code",
   "execution_count": 71,
   "id": "e8c3437f",
   "metadata": {},
   "outputs": [],
   "source": [
    "partitura.save_score_midi(bassline, 'bassline.mid')"
   ]
  },
  {
   "cell_type": "markdown",
   "id": "8f87f713",
   "metadata": {},
   "source": [
    "## 3. Visualizing Tabs\n",
    "- Input: Music score in `musicxml` format, or MIDI file\n",
    "- Output: Bass/Guitar tab in text format."
   ]
  },
  {
   "cell_type": "code",
   "execution_count": 70,
   "id": "ce5da7b9",
   "metadata": {},
   "outputs": [],
   "source": [
    "from tayuya import MIDIParser"
   ]
  },
  {
   "cell_type": "code",
   "execution_count": 74,
   "id": "a2bc64b5",
   "metadata": {},
   "outputs": [
    {
     "data": {
      "text/plain": [
       "{0: ''}"
      ]
     },
     "execution_count": 74,
     "metadata": {},
     "output_type": "execute_result"
    }
   ],
   "source": [
    "mid = MIDIParser('bassline.mid', track=0)\n",
    "mid.get_tracks()"
   ]
  },
  {
   "cell_type": "code",
   "execution_count": 77,
   "id": "1cb4d5c7",
   "metadata": {},
   "outputs": [],
   "source": [
    "#mid.render_tabs()"
   ]
  },
  {
   "cell_type": "code",
   "execution_count": null,
   "id": "a7d82a51",
   "metadata": {},
   "outputs": [],
   "source": []
  }
 ],
 "metadata": {
  "kernelspec": {
   "display_name": "Python 3.8 (walking-bass)",
   "language": "python",
   "name": "walking-bass"
  },
  "language_info": {
   "codemirror_mode": {
    "name": "ipython",
    "version": 3
   },
   "file_extension": ".py",
   "mimetype": "text/x-python",
   "name": "python",
   "nbconvert_exporter": "python",
   "pygments_lexer": "ipython3",
   "version": "3.8.12"
  }
 },
 "nbformat": 4,
 "nbformat_minor": 5
}
