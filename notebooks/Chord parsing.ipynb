{
 "cells": [
  {
   "cell_type": "markdown",
   "id": "59be92cc",
   "metadata": {},
   "source": [
    "### Chord parsing\n",
    "\n",
    "- Input: string with chord in American cipher\n",
    "- Output: Chord object (detecting different intervals that will be used to create the bass lines)"
   ]
  },
  {
   "cell_type": "code",
   "execution_count": null,
   "id": "27b7b7b8",
   "metadata": {},
   "outputs": [],
   "source": []
  }
 ],
 "metadata": {
  "kernelspec": {
   "display_name": "Python 3.8 (walking-bass)",
   "language": "python",
   "name": "walking-bass"
  },
  "language_info": {
   "codemirror_mode": {
    "name": "ipython",
    "version": 3
   },
   "file_extension": ".py",
   "mimetype": "text/x-python",
   "name": "python",
   "nbconvert_exporter": "python",
   "pygments_lexer": "ipython3",
   "version": "3.8.12"
  }
 },
 "nbformat": 4,
 "nbformat_minor": 5
}
