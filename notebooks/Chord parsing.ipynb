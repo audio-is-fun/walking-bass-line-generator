{
 "cells": [
  {
   "cell_type": "markdown",
   "id": "59be92cc",
   "metadata": {},
   "source": [
    "### Chord parsing\n",
    "\n",
    "- Input: string with chord in American cipher\n",
    "- Output: Chord object (detecting different intervals that will be used to create the bass lines)\n",
    "\n",
    "Will use [pychord](https://pypi.org/project/pychord/)."
   ]
  },
  {
   "cell_type": "code",
   "execution_count": 16,
   "id": "27b7b7b8",
   "metadata": {},
   "outputs": [],
   "source": [
    "from pychord import Chord, ChordProgression"
   ]
  },
  {
   "cell_type": "code",
   "execution_count": 17,
   "id": "319bafdd",
   "metadata": {},
   "outputs": [],
   "source": [
    "chord_str = 'Cm'\n",
    "\n",
    "chord = Chord(chord_str)"
   ]
  },
  {
   "cell_type": "code",
   "execution_count": 18,
   "id": "131db670",
   "metadata": {},
   "outputs": [
    {
     "data": {
      "text/plain": [
       "['C', 'Eb', 'G']"
      ]
     },
     "execution_count": 18,
     "metadata": {},
     "output_type": "execute_result"
    }
   ],
   "source": [
    "chord.components()"
   ]
  },
  {
   "cell_type": "code",
   "execution_count": 19,
   "id": "ef294b60",
   "metadata": {},
   "outputs": [
    {
     "name": "stdout",
     "output_type": "stream",
     "text": [
      "Cm\n",
      "root=C\n",
      "quality=m\n",
      "appended=[]\n",
      "on=\n"
     ]
    }
   ],
   "source": [
    "print(chord.info())"
   ]
  },
  {
   "cell_type": "code",
   "execution_count": 39,
   "id": "96628fa8",
   "metadata": {},
   "outputs": [],
   "source": [
    "chord_progression_str = 'C7 Am7 Fmaj7 G7'"
   ]
  },
  {
   "cell_type": "code",
   "execution_count": 41,
   "id": "b5411158",
   "metadata": {},
   "outputs": [],
   "source": [
    "chord_progression = ChordProgression(chord_progression_str.split())"
   ]
  },
  {
   "cell_type": "code",
   "execution_count": 43,
   "id": "8ae64695",
   "metadata": {},
   "outputs": [
    {
     "data": {
      "text/plain": [
       "[<Chord: C7>, <Chord: Am7>, <Chord: Fmaj7>, <Chord: G7>]"
      ]
     },
     "execution_count": 43,
     "metadata": {},
     "output_type": "execute_result"
    }
   ],
   "source": [
    "chord_progression.chords"
   ]
  },
  {
   "cell_type": "code",
   "execution_count": 44,
   "id": "60d0204e",
   "metadata": {},
   "outputs": [
    {
     "data": {
      "text/plain": [
       "['C', 'E', 'G', 'Bb']"
      ]
     },
     "metadata": {},
     "output_type": "display_data"
    },
    {
     "data": {
      "text/plain": [
       "['A', 'C', 'E', 'G']"
      ]
     },
     "metadata": {},
     "output_type": "display_data"
    },
    {
     "data": {
      "text/plain": [
       "['F', 'A', 'C', 'E']"
      ]
     },
     "metadata": {},
     "output_type": "display_data"
    },
    {
     "data": {
      "text/plain": [
       "['G', 'B', 'D', 'F']"
      ]
     },
     "metadata": {},
     "output_type": "display_data"
    }
   ],
   "source": [
    "for ch in chord_progression.chords:\n",
    "    display(ch.components())"
   ]
  },
  {
   "cell_type": "code",
   "execution_count": null,
   "id": "ce65e12b",
   "metadata": {},
   "outputs": [],
   "source": []
  }
 ],
 "metadata": {
  "kernelspec": {
   "display_name": "Python 3.8 (walking-bass)",
   "language": "python",
   "name": "walking-bass"
  },
  "language_info": {
   "codemirror_mode": {
    "name": "ipython",
    "version": 3
   },
   "file_extension": ".py",
   "mimetype": "text/x-python",
   "name": "python",
   "nbconvert_exporter": "python",
   "pygments_lexer": "ipython3",
   "version": "3.8.12"
  }
 },
 "nbformat": 4,
 "nbformat_minor": 5
}
